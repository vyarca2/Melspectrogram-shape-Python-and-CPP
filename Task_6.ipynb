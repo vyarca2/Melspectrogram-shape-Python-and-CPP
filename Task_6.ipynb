{
  "cells": [
    {
      "cell_type": "code",
      "execution_count": null,
      "metadata": {
        "colab": {
          "base_uri": "https://localhost:8080/"
        },
        "id": "z1ldCz2QcT_Z",
        "outputId": "584097c3-cb27-49d8-8a9e-6775ea43a334"
      },
      "outputs": [],
      "source": [
        "from google.colab import drive\n",
        "drive.mount('/content/drive', force_remount = True)"
      ]
    },
    {
      "cell_type": "code",
      "execution_count": null,
      "metadata": {
        "colab": {
          "base_uri": "https://localhost:8080/"
        },
        "id": "X5wqnyopqHmh",
        "outputId": "a505a415-4cb8-4327-f192-b85325dfadf7"
      },
      "outputs": [],
      "source": [
        "import numpy as np\n",
        "from scipy.io import wavfile\n",
        "\n",
        "duration = 5\n",
        "sample_rate = 16000\n",
        "frequency = 440\n",
        "\n",
        "t = np.linspace(0, duration, int(duration * sample_rate), endpoint=False)\n",
        "\n",
        "audio = np.sin(2 * np.pi * frequency * t)\n",
        "\n",
        "audio *= 0.3 * np.iinfo(np.int16).max\n",
        "\n",
        "audio = audio.astype(np.int16)\n",
        "\n",
        "wavfile.write('/content/audio1.wav', sample_rate, audio)\n",
        "\n",
        "print(\"Audio file saved as audio1.wav\")\n"
      ]
    },
    {
      "cell_type": "code",
      "execution_count": null,
      "metadata": {
        "colab": {
          "base_uri": "https://localhost:8080/",
          "height": 75
        },
        "id": "X9ltL_UvqNvg",
        "outputId": "ba71b9ee-c839-420b-f0e0-7f25789fc264"
      },
      "outputs": [],
      "source": [
        "from IPython.display import Audio\n",
        "\n",
        "audio_file = '/content/audio1.wav'\n",
        "\n",
        "Audio(audio_file)\n"
      ]
    },
    {
      "cell_type": "code",
      "execution_count": null,
      "metadata": {
        "colab": {
          "base_uri": "https://localhost:8080/"
        },
        "id": "QD1E4-JU8sBU",
        "outputId": "d08ce0f7-fd0f-48bc-a3e7-cdf35418aef8"
      },
      "outputs": [],
      "source": [
        "import soundfile as sf\n",
        "import librosa\n",
        "import numpy as np\n",
        "\n",
        "def load_audio(file_path):\n",
        "    audio, sample_rate = sf.read(file_path, dtype='float32')\n",
        "    return audio\n",
        "\n",
        "audio_file_path = \"/content/audio1.wav\"\n",
        "audio_data = load_audio(audio_file_path)\n",
        "\n",
        "if len(audio_data) > 0:\n",
        "    sample_rate = 16000\n",
        "    n_fft = 2048\n",
        "    hop_length = 512\n",
        "    n_mels = 128\n",
        "    f_min = 0\n",
        "    f_max = sample_rate\n",
        "\n",
        "    mel_spectrogram = librosa.feature.melspectrogram(y=audio_data, sr=sample_rate)\n",
        "    mel_spectrogram = mel_spectrogram.T\n",
        "\n",
        "    output_file_path = \"mel_spectrogram_python.txt\"\n",
        "    with open(output_file_path, 'w') as output_file:\n",
        "        output_file.write(str(mel_spectrogram.shape))\n",
        "\n",
        "    print(\"Mel spectrogram saved to\", output_file_path)\n",
        "\n",
        "else:\n",
        "    print(\"Failed to load audio file:\", audio_file_path)\n"
      ]
    },
    {
      "cell_type": "code",
      "execution_count": null,
      "metadata": {
        "colab": {
          "base_uri": "https://localhost:8080/"
        },
        "id": "E3WVKmIqJyWh",
        "outputId": "1f0f0657-94da-4d91-b3ad-674f3876695a"
      },
      "outputs": [],
      "source": [
        "%%file testf.py\n",
        "import pytest\n",
        "\n",
        "def test_compare_shapes():\n",
        "    file1 = 'mel_spectrogram_cpp.txt'\n",
        "    file2 = 'mel_spectrogram_python.txt'\n",
        "\n",
        "    shape1 = open(file1, 'r').readline().strip()\n",
        "    shape2 = open(file2, 'r').readline().strip()\n",
        "\n",
        "    assert shape1 == shape2\n"
      ]
    }
  ],
  "metadata": {
    "accelerator": "GPU",
    "colab": {
      "gpuType": "T4",
      "provenance": []
    },
    "kernelspec": {
      "display_name": "Python 3",
      "name": "python3"
    },
    "language_info": {
      "name": "python",
      "version": "3.11.4"
    }
  },
  "nbformat": 4,
  "nbformat_minor": 0
}
